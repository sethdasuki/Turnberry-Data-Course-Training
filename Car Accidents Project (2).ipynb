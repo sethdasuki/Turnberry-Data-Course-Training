{
 "cells": [
  {
   "cell_type": "code",
   "execution_count": 3,
   "id": "8557cafd",
   "metadata": {},
   "outputs": [],
   "source": [
    "#Import libraries\n",
    "\n",
    "import pandas as pd"
   ]
  },
  {
   "cell_type": "code",
   "execution_count": 19,
   "id": "d3add56e",
   "metadata": {
    "scrolled": true
   },
   "outputs": [
    {
     "name": "stdout",
     "output_type": "stream",
     "text": [
      "5934990\n"
     ]
    }
   ],
   "source": [
    "#Read car accidents file\n",
    "\n",
    "accidents_file_path = 'US_Accidents_March23.csv'\n",
    "\n",
    "#Read data in chunks to reduce memory\n",
    "chunk_size = 100000\n",
    "\n",
    "accidents = pd.DataFrame()\n",
    "\n",
    "for chunk in pd.read_csv(accidents_file_path,chunksize=chunk_size, low_memory=False):\n",
    "    # Process each chunk as needed\n",
    "    accidents = pd.concat([accidents,chunk])\n",
    "    \n",
    "print(len(accidents))\n",
    "\n",
    "    "
   ]
  },
  {
   "cell_type": "code",
   "execution_count": 7,
   "id": "4a2f75cf",
   "metadata": {
    "scrolled": true
   },
   "outputs": [
    {
     "name": "stdout",
     "output_type": "stream",
     "text": [
      "                ID   Source  Severity           Start_Time  \\\n",
      "2822914  A-2832793  Source2         2  2018-05-18 08:42:34   \n",
      "4740788  A-4776758  Source1         2  2022-11-20 17:42:18   \n",
      "5441346  A-5482666  Source1         2  2021-08-02 05:55:36   \n",
      "4952215  A-4989744  Source1         2  2022-02-16 06:08:30   \n",
      "1242237  A-1252019  Source2         3  2020-11-25 10:47:50   \n",
      "...            ...      ...       ...                  ...   \n",
      "4631263  A-4666402  Source1         2  2022-09-09 12:33:00   \n",
      "2213649  A-2223515  Source2         2  2019-03-17 16:57:42   \n",
      "2713253  A-2723127  Source2         2  2018-07-25 08:30:26   \n",
      "5312317  A-5352657  Source1         2  2022-12-07 17:51:28   \n",
      "2836719  A-2846598  Source2         2  2018-05-25 08:29:29   \n",
      "\n",
      "                    End_Time  Start_Lat   Start_Lng    End_Lat     End_Lng  \\\n",
      "2822914  2018-05-18 09:27:12  33.752514  -84.231735        NaN         NaN   \n",
      "4740788  2022-11-20 19:43:02  45.110510  -92.782135  45.110483  -92.782040   \n",
      "5441346  2021-08-02 07:47:30  29.949288  -90.086076  29.948852  -90.085280   \n",
      "4952215  2022-02-16 06:53:00  39.767374  -77.144316  39.762545  -77.134974   \n",
      "1242237  2020-11-25 12:04:10  38.593430 -121.444756        NaN         NaN   \n",
      "...                      ...        ...         ...        ...         ...   \n",
      "4631263  2022-09-09 18:54:43  34.120154 -117.732208  34.136329 -117.532209   \n",
      "2213649  2019-03-17 17:33:00  32.712902 -117.118416        NaN         NaN   \n",
      "2713253  2018-07-25 09:00:16  37.508633  -77.463417        NaN         NaN   \n",
      "5312317  2022-12-07 19:51:52  44.970128  -93.321754  44.969544  -93.300743   \n",
      "2836719  2018-05-25 09:14:07  40.703571  -75.124603        NaN         NaN   \n",
      "\n",
      "         Distance(mi)  ... Roundabout Station   Stop Traffic_Calming  \\\n",
      "2822914         0.000  ...      False   False  False           False   \n",
      "4740788         0.005  ...      False   False  False           False   \n",
      "5441346         0.056  ...      False   False  False           False   \n",
      "4952215         0.598  ...      False   False  False           False   \n",
      "1242237         0.000  ...      False   False  False           False   \n",
      "...               ...  ...        ...     ...    ...             ...   \n",
      "4631263        11.493  ...      False   False  False           False   \n",
      "2213649         0.000  ...      False   False  False           False   \n",
      "2713253         0.000  ...      False   False  False           False   \n",
      "5312317         1.028  ...      False    True  False           False   \n",
      "2836719         0.000  ...      False   False  False           False   \n",
      "\n",
      "        Traffic_Signal Turning_Loop Sunrise_Sunset Civil_Twilight  \\\n",
      "2822914          False        False            Day            Day   \n",
      "4740788          False        False          Night          Night   \n",
      "5441346          False        False          Night            Day   \n",
      "4952215          False        False          Night          Night   \n",
      "1242237          False        False            Day            Day   \n",
      "...                ...          ...            ...            ...   \n",
      "4631263          False        False            Day            Day   \n",
      "2213649          False        False            Day            Day   \n",
      "2713253           True        False            Day            Day   \n",
      "5312317          False        False          Night          Night   \n",
      "2836719           True        False            Day            Day   \n",
      "\n",
      "        Nautical_Twilight Astronomical_Twilight  \n",
      "2822914               Day                   Day  \n",
      "4740788               Day                   Day  \n",
      "5441346               Day                   Day  \n",
      "4952215               Day                   Day  \n",
      "1242237               Day                   Day  \n",
      "...                   ...                   ...  \n",
      "4631263               Day                   Day  \n",
      "2213649               Day                   Day  \n",
      "2713253               Day                   Day  \n",
      "5312317             Night                   Day  \n",
      "2836719               Day                   Day  \n",
      "\n",
      "[100000 rows x 46 columns]\n"
     ]
    }
   ],
   "source": [
    "#Create sample from accidents data\n",
    "\n",
    "sample = accidents.sample(n=100000, random_state = 1000)\n",
    "print(sample)"
   ]
  },
  {
   "cell_type": "code",
   "execution_count": 11,
   "id": "5b64c8ef",
   "metadata": {},
   "outputs": [],
   "source": [
    "export = sample.to_csv('C:/Users/SethDasuki/OneDrive - Turnberry Solutions Inc/Desktop/Sample_Accidents 100,000.csv')"
   ]
  },
  {
   "cell_type": "code",
   "execution_count": null,
   "id": "e1e99ad0",
   "metadata": {},
   "outputs": [],
   "source": []
  }
 ],
 "metadata": {
  "kernelspec": {
   "display_name": "Python 3 (ipykernel)",
   "language": "python",
   "name": "python3"
  },
  "language_info": {
   "codemirror_mode": {
    "name": "ipython",
    "version": 3
   },
   "file_extension": ".py",
   "mimetype": "text/x-python",
   "name": "python",
   "nbconvert_exporter": "python",
   "pygments_lexer": "ipython3",
   "version": "3.11.7"
  }
 },
 "nbformat": 4,
 "nbformat_minor": 5
}
